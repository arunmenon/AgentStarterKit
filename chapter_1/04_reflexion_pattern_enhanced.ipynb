{
  "cells": [
    {
      "cell_type": "markdown",
      "metadata": {},
      "source": [
        "# Module 1.4: Reflexion - Verbal Reinforcement Learning \ud83c\udfaf\n",
        "\n",
        "**Duration**: 15 minutes  \n",
        "**Level**: Advanced  \n",
        "\n",
        "## Key Innovation\n",
        "\n",
        "Use language as the reward signal!\n",
        "- **91% accuracy** on HumanEval\n",
        "- vs 80% for GPT-4 baseline\n",
        "- Learn from verbal feedback"
      ],
      "execution_count": null
    }
  ],
  "metadata": {
    "kernelspec": {
      "display_name": "Python 3",
      "language": "python",
      "name": "python3"
    }
  },
  "nbformat": 4,
  "nbformat_minor": 4
}
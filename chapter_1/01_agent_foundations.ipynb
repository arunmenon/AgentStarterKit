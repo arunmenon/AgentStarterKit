{
 "cells": [
  {
   "cell_type": "markdown",
   "metadata": {},
   "source": [
    "# Module 1: Agent Foundations\n",
    "*Building Your First Autonomous AI Agent*\n",
    "\n",
    "**Learning Objectives:**\n",
    "- Understand core agent components\n",
    "- Implement the ReAct pattern\n",
    "- Build tools and memory systems\n",
    "\n",
    "**Duration:** 45 minutes"
   ]
  },
  {
   "cell_type": "code",
   "execution_count": null,
   "metadata": {},
   "outputs": [],
   "source": [
    "import openai\n",
    "import json\n",
    "from typing import Dict, Any\n",
    "from dataclasses import dataclass\n",
    "import os\n",
    "\n",
    "print(\"Environment setup complete\")"
   ]
  },
  {
   "cell_type": "markdown",
   "metadata": {},
   "source": [
    "## Agent Architecture\n",
    "\n",
    "Every agent has four components:\n",
    "1. Brain (LLM)\n",
    "2. Memory\n",
    "3. Tools\n",
    "4. Planning"
   ]
  },
  {
   "cell_type": "code",
   "execution_count": null,
   "metadata": {},
   "outputs": [],
   "source": [
    "@dataclass\n",
    "class AgentAction:\n",
    "    tool_name: str\n",
    "    tool_input: str\n",
    "    reasoning: str\n",
    "\n",
    "class BasicAgent:\n",
    "    def __init__(self, name: str):\n",
    "        self.name = name\n",
    "        self.tools = {}\n",
    "        self.memory = []\n",
    "    \n",
    "    def add_tool(self, name: str, func, desc: str):\n",
    "        self.tools[name] = {'function': func, 'description': desc}\n",
    "        print(f\"Added tool: {name}\")\n",
    "\n",
    "agent = BasicAgent(\"ResearchBot\")\n",
    "print(f\"Created agent: {agent.name}\")"
   ]
  },
  {
   "cell_type": "markdown",
   "metadata": {},
   "source": [
    "## Building Tools\n",
    "\n",
    "Tools extend agent capabilities beyond text generation."
   ]
  },
  {
   "cell_type": "code",
   "execution_count": null,
   "metadata": {},
   "outputs": [],
   "source": [
    "def web_search(query: str) -> str:\n",
    "    \"\"\"Simulated web search\"\"\"\n",
    "    results = {\n",
    "        \"ai\": \"Artificial Intelligence transforms industries\",\n",
    "        \"climate\": \"Climate change affects global weather patterns\"\n",
    "    }\n",
    "    for key, result in results.items():\n",
    "        if key in query.lower():\n",
    "            return f\"Found: {result}\"\n",
    "    return \"General search results found\"\n",
    "\n",
    "def calculator(expr: str) -> str:\n",
    "    \"\"\"Safe calculator\"\"\"\n",
    "    try:\n",
    "        if all(c in '0123456789+-*/().' for c in expr):\n",
    "            return str(eval(expr))\n",
    "        return \"Invalid expression\"\n",
    "    except:\n",
    "        return \"Calculation error\"\n",
    "\n",
    "agent.add_tool(\"search\", web_search, \"Search the web\")\n",
    "agent.add_tool(\"calc\", calculator, \"Calculate math expressions\")\n",
    "\n",
    "print(f\"Agent has {len(agent.tools)} tools\")"
   ]
  },
  {
   "cell_type": "markdown",
   "metadata": {},
   "source": [
    "## ReAct Pattern\n",
    "\n",
    "Reasoning + Acting cycle:\n",
    "1. Think about the goal\n",
    "2. Choose an action\n",
    "3. Execute the action\n",
    "4. Observe results\n",
    "5. Repeat until goal achieved"
   ]
  },
  {
   "cell_type": "code",
   "execution_count": null,
   "metadata": {},
   "outputs": [],
   "source": [
    "def react_demo(agent, goal: str):\n",
    "    \"\"\"Simple ReAct demonstration\"\"\"\n",
    "    print(f\"Goal: {goal}\")\n",
    "    \n",
    "    if \"search\" in goal.lower():\n",
    "        print(\"Thought: I need to search for information\")\n",
    "        print(\"Action: Using search tool\")\n",
    "        result = agent.tools[\"search\"][\"function\"](goal)\n",
    "        print(f\"Observation: {result}\")\n",
    "        return result\n",
    "    \n",
    "    elif \"calculate\" in goal.lower():\n",
    "        print(\"Thought: I need to do math\")\n",
    "        print(\"Action: Using calculator\")\n",
    "        expr = \"2+2\"  # simplified for demo\n",
    "        result = agent.tools[\"calc\"][\"function\"](expr)\n",
    "        print(f\"Observation: {expr} = {result}\")\n",
    "        return result\n",
    "    \n",
    "    return \"Goal completed\"\n",
    "\n",
    "# Demo the ReAct pattern\n",
    "react_demo(agent, \"search for AI information\")\n",
    "print()\n",
    "react_demo(agent, \"calculate something\")"
   ]
  },
  {
   "cell_type": "markdown",
   "metadata": {},
   "source": [
    "## Module Summary\n",
    "\n",
    "You built:\n",
    "- Agent with 4 core components\n",
    "- Tool integration system\n",
    "- ReAct reasoning pattern\n",
    "- Memory for experiences\n",
    "\n",
    "Next: Advanced memory and learning systems"
   ]
  }
 ],
 "metadata": {
  "kernelspec": {
   "display_name": "Python 3",
   "language": "python",
   "name": "python3"
  },
  "language_info": {
   "codemirror_mode": {
    "name": "ipython",
    "version": 3
   },
   "file_extension": ".py",
   "mimetype": "text/x-python",
   "name": "python",
   "nbconvert_exporter": "python",
   "pygments_lexer": "ipython3",
   "version": "3.8.0"
  }
 },
 "nbformat": 4,
 "nbformat_minor": 4
}
{
 "cells": [
  {
   "cell_type": "markdown",
   "metadata": {},
   "source": [
    "# Module 1: Agent Foundations\n",
    "*Building Your First Autonomous AI Agent*\n",
    "\n",
    "**Learning Objectives:**\n",
    "- Understand the core components that make an AI system \"agentic\"\n",
    "- Implement the ReAct (Reasoning + Acting) pattern\n",
    "- Build a research assistant agent that can search and synthesize information\n",
    "\n",
    "**Duration:** 45 minutes\n",
    "\n",
    "---"
   ]
  },
  {
   "cell_type": "markdown",
   "metadata": {},
   "source": [
    "## 🎯 What Makes an AI System \"Agentic\"?\n",
    "\n",
    "Traditional AI systems follow a simple pattern:\n",
    "```\n",
    "Input → Process → Output\n",
    "```\n",
    "\n",
    "**Agentic AI systems** are fundamentally different. They exhibit **agency** - the ability to:\n",
    "- **Perceive** their environment and understand context\n",
    "- **Reason** about goals and plan actions to achieve them  \n",
    "- **Act** autonomously in their environment\n",
    "- **Learn** from feedback and adapt their behavior\n",
    "\n",
    "This creates a continuous cycle:\n",
    "```\n",
    "Goal → Plan → Act → Observe → Reflect → Replan → Act → ...\n",
    "```"
   ]
  },
  {
   "cell_type": "code",
   "execution_count": null,
   "metadata": {},
   "outputs": [],
   "source": [
    "# Essential imports for building agents\n",
    "import openai\n",
    "import requests\n",
    "import json\n",
    "import time\n",
    "import re\n",
    "from typing import List, Dict, Any, Optional\n",
    "from dataclasses import dataclass\n",
    "from datetime import datetime\n",
    "import os\n",
    "from dotenv import load_dotenv\n",
    "\n",
    "# Load environment variables (API keys, etc.)\n",
    "load_dotenv()\n",
    "\n",
    "print(\"✅ Environment setup complete!\")"
   ]
  },
  {
   "cell_type": "markdown",
   "metadata": {},
   "source": [
    "## 🏗️ Agent Anatomy: The Four Core Components\n",
    "\n",
    "Every agent consists of four essential components working together:\n",
    "\n",
    "### 1. **Brain (Language Model)**\n",
    "The reasoning engine that processes information and makes decisions\n",
    "\n",
    "### 2. **Memory System** \n",
    "Stores conversation history, learned experiences, and context\n",
    "\n",
    "### 3. **Tool Arsenal**\n",
    "External capabilities the agent can invoke (APIs, databases, calculators, etc.)\n",
    "\n",
    "### 4. **Planning System**\n",
    "Coordinates reasoning and action selection to achieve goals"
   ]
  },
  {
   "cell_type": "code",
   "execution_count": null,
   "metadata": {},
   "outputs": [],
   "source": [
    "# Base Agent class that we'll build upon\n",
    "@dataclass\n",
    "class AgentAction:\n",
    "    \"\"\"Represents an action the agent wants to take\"\"\"\n",
    "    tool_name: str\n",
    "    tool_input: str\n",
    "    reasoning: str\n",
    "\n",
    "@dataclass\n",
    "class AgentObservation:\n",
    "    \"\"\"Represents the result of an action\"\"\"\n",
    "    content: str\n",
    "    success: bool\n",
    "    timestamp: datetime\n",
    "\n",
    "class BasicAgent:\n",
    "    \"\"\"A foundational agent class implementing the core components\"\"\"\n",
    "    \n",
    "    def __init__(self, name: str, api_key: str):\n",
    "        # Component 1: Brain (Language Model)\n",
    "        self.name = name\n",
    "        self.client = openai.OpenAI(api_key=api_key)\n",
    "        \n",
    "        # Component 2: Memory System\n",
    "        self.conversation_memory = []\n",
    "        self.experience_memory = []\n",
    "        \n",
    "        # Component 3: Tool Arsenal (we'll add tools here)\n",
    "        self.tools = {}\n",
    "        \n",
    "        # Component 4: Planning System (tracks current goal and progress)\n",
    "        self.current_goal = None\n",
    "        self.plan_steps = []\n",
    "        \n",
    "    def add_tool(self, tool_name: str, tool_function, description: str):\n",
    "        \"\"\"Add a new tool to the agent's arsenal\"\"\"\n",
    "        self.tools[tool_name] = {\n",
    "            'function': tool_function,\n",
    "            'description': description\n",
    "        }\n",
    "        print(f\"✅ Added tool: {tool_name}\")\n",
    "\n",
    "# Let's create our first agent instance!\n",
    "research_agent = BasicAgent(\n",
    "    name=\"ResearchBot\", \n",
    "    api_key=os.getenv(\"OPENAI_API_KEY\", \"your-api-key-here\")\n",
    ")\n",
    "\n",
    "print(f\"🎉 Created agent: {research_agent.name}\")"
   ]
  }
 ],
 "metadata": {
  "kernelspec": {
   "display_name": "Python 3",
   "language": "python",
   "name": "python3"
  },
  "language_info": {
   "codemirror_mode": {
    "name": "ipython",
    "version": 3
   },
   "file_extension": ".py",
   "mimetype": "text/x-python",
   "name": "python",
   "nbconvert_exporter": "python",
   "pygments_lexer": "ipython3",
   "version": "3.8.0"
  }
 },
 "nbformat": 4,
 "nbformat_minor": 4
}
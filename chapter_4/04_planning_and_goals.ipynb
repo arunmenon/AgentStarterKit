{
 "cells": [
  {
   "cell_type": "markdown",
   "metadata": {},
   "source": [
    "# Module 4: Planning and Goals\n",
    "*Building Agents That Plan and Execute Complex Strategies*\n",
    "\n",
    "**Learning Objectives:**\n",
    "- Implement hierarchical planning systems\n",
    "- Create goal decomposition strategies\n",
    "- Build adaptive execution mechanisms\n",
    "\n",
    "**Duration:** 60 minutes"
   ]
  },
  {
   "cell_type": "code",
   "execution_count": 1,
   "metadata": {},
   "outputs": [
    {
     "name": "stdout",
     "output_type": "stream",
     "text": [
      "Planning system ready\n"
     ]
    }
   ],
   "source": [
    "import json\n",
    "from datetime import datetime\n",
    "from typing import List, Dict, Any\n",
    "from dataclasses import dataclass, field\n",
    "from enum import Enum\n",
    "import uuid\n",
    "\n",
    "print(\"Planning system ready\")"
   ]
  },
  {
   "cell_type": "markdown",
   "metadata": {},
   "source": [
    "## Planning Fundamentals\n",
    "\n",
    "Planning involves:\n",
    "1. Goal decomposition\n",
    "2. Task sequencing\n",
    "3. Resource allocation\n",
    "4. Execution monitoring\n",
    "5. Adaptive replanning"
   ]
  },
  {
   "cell_type": "code",
   "execution_count": 2,
   "metadata": {},
   "outputs": [
    {
     "name": "stdout",
     "output_type": "stream",
     "text": [
      "Planning data structures defined\n"
     ]
    }
   ],
   "source": [
    "class TaskStatus(Enum):\n",
    "    PENDING = \"pending\"\n",
    "    RUNNING = \"running\"\n",
    "    COMPLETED = \"completed\"\n",
    "    FAILED = \"failed\"\n",
    "\n",
    "@dataclass\n",
    "class Task:\n",
    "    id: str\n",
    "    name: str\n",
    "    description: str\n",
    "    status: TaskStatus = TaskStatus.PENDING\n",
    "    dependencies: List[str] = field(default_factory=list)\n",
    "    priority: int = 1\n",
    "\n",
    "@dataclass\n",
    "class Plan:\n",
    "    id: str\n",
    "    goal: str\n",
    "    tasks: Dict[str, Task] = field(default_factory=dict)\n",
    "\n",
    "    def add_task(self, task: Task):\n",
    "        self.tasks[task.id] = task\n",
    "\n",
    "    def get_ready_tasks(self) -> List[Task]:\n",
    "        ready_tasks = []\n",
    "        completed_ids = {tid for tid, task in self.tasks.items() \n",
    "                        if task.status == TaskStatus.COMPLETED}\n",
    "        \n",
    "        for task in self.tasks.values():\n",
    "            if (task.status == TaskStatus.PENDING and \n",
    "                all(dep_id in completed_ids for dep_id in task.dependencies)):\n",
    "                ready_tasks.append(task)\n",
    "        \n",
    "        return sorted(ready_tasks, key=lambda t: t.priority, reverse=True)\n",
    "\n",
    "    def is_complete(self) -> bool:\n",
    "        return all(task.status == TaskStatus.COMPLETED for task in self.tasks.values())\n",
    "\n",
    "print(\"Planning data structures defined\")"
   ]
  },
  {
   "cell_type": "markdown",
   "metadata": {},
   "source": [
    "## Hierarchical Planner\n",
    "\n",
    "Breaks down complex goals into manageable subtasks."
   ]
  },
  {
   "cell_type": "code",
   "execution_count": 3,
   "metadata": {},
   "outputs": [
    {
     "name": "stdout",
     "output_type": "stream",
     "text": [
      "Hierarchical planner created\n"
     ]
    }
   ],
   "source": [
    "class HierarchicalPlanner:\n",
    "    def __init__(self):\n",
    "        self.decomposition_rules = {}\n",
    "\n",
    "    def register_decomposition(self, goal_type: str, decomposer):\n",
    "        self.decomposition_rules[goal_type] = decomposer\n",
    "        print(f\"Registered decomposition for: {goal_type}\")\n",
    "\n",
    "    def create_plan(self, goal: str) -> Plan:\n",
    "        plan = Plan(id=str(uuid.uuid4())[:8], goal=goal)\n",
    "        \n",
    "        goal_type = self._classify_goal(goal)\n",
    "        \n",
    "        if goal_type in self.decomposition_rules:\n",
    "            tasks = self.decomposition_rules[goal_type](goal)\n",
    "        else:\n",
    "            tasks = self._default_decomposition(goal)\n",
    "\n",
    "        for task in tasks:\n",
    "            plan.add_task(task)\n",
    "\n",
    "        print(f\"Created plan with {len(plan.tasks)} tasks\")\n",
    "        return plan\n",
    "\n",
    "    def _classify_goal(self, goal: str) -> str:\n",
    "        goal_lower = goal.lower()\n",
    "        if \"analyze\" in goal_lower:\n",
    "            return \"analysis\"\n",
    "        elif \"research\" in goal_lower:\n",
    "            return \"research\"\n",
    "        else:\n",
    "            return \"general\"\n",
    "\n",
    "    def _default_decomposition(self, goal: str) -> List[Task]:\n",
    "        return [\n",
    "            Task(\n",
    "                id=str(uuid.uuid4())[:8],\n",
    "                name=f\"Plan: {goal}\",\n",
    "                description=f\"Create plan for {goal}\",\n",
    "                priority=5\n",
    "            ),\n",
    "            Task(\n",
    "                id=str(uuid.uuid4())[:8],\n",
    "                name=f\"Execute: {goal}\",\n",
    "                description=f\"Execute {goal}\",\n",
    "                priority=3\n",
    "            )\n",
    "        ]\n",
    "\n",
    "planner = HierarchicalPlanner()\n",
    "print(\"Hierarchical planner created\")"
   ]
  },
  {
   "cell_type": "markdown",
   "metadata": {},
   "source": [
    "## Plan Executor\n",
    "\n",
    "Executes plans with monitoring and adaptation."
   ]
  },
  {
   "cell_type": "code",
   "execution_count": 4,
   "metadata": {},
   "outputs": [
    {
     "name": "stdout",
     "output_type": "stream",
     "text": [
      "Plan executor created\n"
     ]
    }
   ],
   "source": [
    "class PlanExecutor:\n",
    "    def __init__(self):\n",
    "        self.execution_history = []\n",
    "\n",
    "    def execute_plan(self, plan: Plan) -> Dict[str, Any]:\n",
    "        print(f\"Executing plan: {plan.goal}\")\n",
    "        \n",
    "        stats = {\n",
    "            'tasks_completed': 0,\n",
    "            'tasks_failed': 0,\n",
    "            'total_tasks': len(plan.tasks)\n",
    "        }\n",
    "\n",
    "        while not plan.is_complete():\n",
    "            ready_tasks = plan.get_ready_tasks()\n",
    "            \n",
    "            if not ready_tasks:\n",
    "                break\n",
    "\n",
    "            task = ready_tasks[0]\n",
    "            print(f\"Executing task: {task.name}\")\n",
    "            \n",
    "            import random\n",
    "            success = random.random() > 0.2\n",
    "            \n",
    "            if success:\n",
    "                task.status = TaskStatus.COMPLETED\n",
    "                stats['tasks_completed'] += 1\n",
    "                print(f\"  -> Completed: {task.name}\")\n",
    "            else:\n",
    "                task.status = TaskStatus.FAILED\n",
    "                stats['tasks_failed'] += 1\n",
    "                print(f\"  -> Failed: {task.name}\")\n",
    "\n",
    "        self.execution_history.append(stats)\n",
    "        return stats\n",
    "\n",
    "executor = PlanExecutor()\n",
    "print(\"Plan executor created\")"
   ]
  },
  {
   "cell_type": "markdown",
   "metadata": {},
   "source": [
    "## Demo\n",
    "\n",
    "Demonstrate the complete planning and execution system."
   ]
  },
  {
   "cell_type": "code",
   "execution_count": 5,
   "metadata": {},
   "outputs": [
    {
     "name": "stdout",
     "output_type": "stream",
     "text": [
      "Planning and Execution Demo\n",
      "\n",
      "Goal 1: Research market trends\n",
      "Created plan with 2 tasks\n",
      "Plan tasks:\n",
      "  - Plan: Research market trends [Priority: 5]\n",
      "  - Execute: Research market trends [Priority: 3]\n",
      "Executing plan: Research market trends\n",
      "Executing task: Plan: Research market trends\n",
      "  -> Completed: Plan: Research market trends\n",
      "Executing task: Execute: Research market trends\n",
      "  -> Completed: Execute: Research market trends\n",
      "Result: 2/2 completed\n",
      "\n",
      "Goal 2: Analyze customer data\n",
      "Created plan with 2 tasks\n",
      "Plan tasks:\n",
      "  - Plan: Analyze customer data [Priority: 5]\n",
      "  - Execute: Analyze customer data [Priority: 3]\n",
      "Executing plan: Analyze customer data\n",
      "Executing task: Plan: Analyze customer data\n",
      "  -> Failed: Plan: Analyze customer data\n",
      "Executing task: Execute: Analyze customer data\n",
      "  -> Completed: Execute: Analyze customer data\n",
      "Result: 1/2 completed\n",
      "\n",
      "Goal 3: Create product strategy\n",
      "Created plan with 2 tasks\n",
      "Plan tasks:\n",
      "  - Plan: Create product strategy [Priority: 5]\n",
      "  - Execute: Create product strategy [Priority: 3]\n",
      "Executing plan: Create product strategy\n",
      "Executing task: Plan: Create product strategy\n",
      "  -> Completed: Plan: Create product strategy\n",
      "Executing task: Execute: Create product strategy\n",
      "  -> Completed: Execute: Create product strategy\n",
      "Result: 2/2 completed\n"
     ]
    }
   ],
   "source": [
    "goals = [\n",
    "    \"Research market trends\",\n",
    "    \"Analyze customer data\",\n",
    "    \"Create product strategy\"\n",
    "]\n",
    "\n",
    "print(\"Planning and Execution Demo\")\n",
    "\n",
    "for i, goal in enumerate(goals, 1):\n",
    "    print(f\"\\nGoal {i}: {goal}\")\n",
    "    \n",
    "    plan = planner.create_plan(goal)\n",
    "    \n",
    "    print(\"Plan tasks:\")\n",
    "    for task in plan.tasks.values():\n",
    "        print(f\"  - {task.name} [Priority: {task.priority}]\")\n",
    "    \n",
    "    stats = executor.execute_plan(plan)\n",
    "    print(f\"Result: {stats['tasks_completed']}/{stats['total_tasks']} completed\")"
   ]
  },
  {
   "cell_type": "markdown",
   "metadata": {},
   "source": [
    "## Module Summary\n",
    "\n",
    "You built:\n",
    "- Hierarchical planning system\n",
    "- Goal decomposition strategies\n",
    "- Task dependency management\n",
    "- Adaptive plan execution\n",
    "\n",
    "This completes the Agent Starter Kit curriculum!"
   ]
  }
 ],
 "metadata": {
  "kernelspec": {
   "display_name": "Python 3 (ipykernel)",
   "language": "python",
   "name": "python3"
  },
  "language_info": {
   "codemirror_mode": {
    "name": "ipython",
    "version": 3
   },
   "file_extension": ".py",
   "mimetype": "text/x-python",
   "name": "python",
   "nbconvert_exporter": "python",
   "pygments_lexer": "ipython3",
   "version": "3.13.0"
  }
 },
 "nbformat": 4,
 "nbformat_minor": 4
}

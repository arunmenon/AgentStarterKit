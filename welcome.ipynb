{
 "cells": [
  {
   "cell_type": "markdown",
   "metadata": {},
   "source": [
    "# 🎉 Welcome to AgentFlow Studio!\n",
    "\n",
    "Your environment is set up and ready to go. Let's verify everything is working correctly."
   ]
  },
  {
   "cell_type": "code",
   "execution_count": null,
   "metadata": {},
   "outputs": [],
   "source": [
    "# Test imports\n",
    "import sys\n",
    "import pandas as pd\n",
    "import numpy as np\n",
    "import requests\n",
    "from pathlib import Path\n",
    "\n",
    "print(f\"Python version: {sys.version}\")\n",
    "print(f\"Pandas version: {pd.__version__}\")\n",
    "print(f\"NumPy version: {np.__version__}\")"
   ]
  },
  {
   "cell_type": "code",
   "execution_count": null,
   "metadata": {},
   "outputs": [],
   "source": [
    "# Test Ollama connection\n",
    "import requests\n",
    "\n",
    "try:\n",
    "    response = requests.get('http://localhost:11434/api/tags')\n",
    "    if response.status_code == 200:\n",
    "        models = response.json()['models']\n",
    "        print(\"✅ Ollama is running!\")\n",
    "        print(f\"Available models: {[m['name'] for m in models]}\")\n",
    "    else:\n",
    "        print(\"❌ Ollama service not responding\")\n",
    "except Exception as e:\n",
    "    print(f\"❌ Could not connect to Ollama: {e}\")"
   ]
  },
  {
   "cell_type": "code",
   "execution_count": null,
   "metadata": {},
   "outputs": [],
   "source": [
    "# Test Qwen model\n",
    "import json\n",
    "\n",
    "def test_qwen():\n",
    "    url = \"http://localhost:11434/api/generate\"\n",
    "    payload = {\n",
    "        \"model\": \"qwen2.5:7b-instruct-q4_K_M\",\n",
    "        \"prompt\": \"What is an AI agent in one sentence?\",\n",
    "        \"stream\": False\n",
    "    }\n",
    "    \n",
    "    try:\n",
    "        response = requests.post(url, json=payload)\n",
    "        if response.status_code == 200:\n",
    "            result = response.json()\n",
    "            print(\"✅ Qwen model is working!\")\n",
    "            print(f\"\\nResponse: {result['response']}\")\n",
    "        else:\n",
    "            print(f\"❌ Model error: {response.status_code}\")\n",
    "    except Exception as e:\n",
    "        print(f\"❌ Could not test model: {e}\")\n",
    "\n",
    "test_qwen()"
   ]
  },
  {
   "cell_type": "markdown",
   "metadata": {},
   "source": [
    "## 🚀 Next Steps\n",
    "\n",
    "1. **Start Learning**: Open `chapter_1/01_what_is_an_agent.ipynb`\n",
    "2. **Add API Keys**: Edit `.env` file with your API keys (optional)\n",
    "3. **Explore**: Check out the course structure in the README\n",
    "\n",
    "Happy learning! 🎓"
   ]
  }
 ],
 "metadata": {
  "kernelspec": {
   "display_name": "AgentFlow Studio",
   "language": "python",
   "name": "agent_env"
  }
 },
 "nbformat": 4,
 "nbformat_minor": 4
}

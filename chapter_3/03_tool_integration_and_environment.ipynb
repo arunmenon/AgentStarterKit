{
 "cells": [
  {
   "cell_type": "markdown",
   "metadata": {},
   "source": [
    "# Module 3: Tool Integration\n",
    "*Building Agents That Interact with the Real World*\n",
    "\n",
    "**Learning Objectives:**\n",
    "- Integrate with external APIs and databases\n",
    "- Handle file processing and data transformation\n",
    "- Build robust error handling\n",
    "\n",
    "**Duration:** 55 minutes"
   ]
  },
  {
   "cell_type": "code",
   "execution_count": null,
   "metadata": {},
   "outputs": [],
   "source": [
    "import requests\n",
    "import json\n",
    "import sqlite3\n",
    "import csv\n",
    "from typing import Dict, Any, Optional\n",
    "from dataclasses import dataclass\n",
    "\n",
    "print(\"Tool integration system ready\")"
   ]
  },
  {
   "cell_type": "markdown",
   "metadata": {},
   "source": [
    "## Tool Framework\n",
    "\n",
    "A robust framework for integrating external tools and APIs."
   ]
  },
  {
   "cell_type": "code",
   "execution_count": null,
   "metadata": {},
   "outputs": [],
   "source": [
    "@dataclass\n",
    "class ToolResult:\n",
    "    success: bool\n",
    "    data: Any\n",
    "    error: Optional[str] = None\n",
    "    execution_time: float = 0.0\n",
    "\n",
    "class ToolManager:\n",
    "    def __init__(self):\n",
    "        self.tools = {}\n",
    "        self.execution_history = []\n",
    "\n",
    "    def register_tool(self, name: str, func, description: str):\n",
    "        self.tools[name] = {\n",
    "            'function': func,\n",
    "            'description': description\n",
    "        }\n",
    "        print(f\"Registered tool: {name}\")\n",
    "\n",
    "    def execute_tool(self, name: str, **kwargs) -> ToolResult:\n",
    "        if name not in self.tools:\n",
    "            return ToolResult(False, None, f\"Tool '{name}' not found\")\n",
    "\n",
    "        try:\n",
    "            result = self.tools[name]['function'](**kwargs)\n",
    "            return ToolResult(True, result)\n",
    "        except Exception as e:\n",
    "            return ToolResult(False, None, str(e))\n",
    "\n",
    "tool_manager = ToolManager()\n",
    "print(\"Tool manager created\")"
   ]
  },
  {
   "cell_type": "markdown",
   "metadata": {},
   "source": [
    "## Database Tools\n",
    "\n",
    "Tools for database connectivity and data operations."
   ]
  },
  {
   "cell_type": "code",
   "execution_count": null,
   "metadata": {},
   "outputs": [],
   "source": [
    "def database_query(query: str, db_path: str = ':memory:'):\n",
    "    \"\"\"Execute SQL query on database\"\"\"\n",
    "    conn = sqlite3.connect(db_path)\n",
    "    try:\n",
    "        cursor = conn.cursor()\n",
    "        cursor.execute(query)\n",
    "        if query.strip().upper().startswith('SELECT'):\n",
    "            results = cursor.fetchall()\n",
    "            return {'data': results}\n",
    "        else:\n",
    "            conn.commit()\n",
    "            return {'rows_affected': cursor.rowcount}\n",
    "    finally:\n",
    "        conn.close()\n",
    "\n",
    "def web_api_call(url: str):\n",
    "    \"\"\"Make HTTP API calls\"\"\"\n",
    "    return {'status': 'simulated', 'url': url}\n",
    "\n",
    "# Register tools\n",
    "tool_manager.register_tool('database_query', database_query, 'Execute SQL queries')\n",
    "tool_manager.register_tool('web_api', web_api_call, 'Make web API calls')\n",
    "\n",
    "print(f\"Registered {len(tool_manager.tools)} tools\")"
   ]
  },
  {
   "cell_type": "markdown",
   "metadata": {},
   "source": [
    "## Integrated Agent\n",
    "\n",
    "An agent that can use multiple tools to accomplish complex tasks."
   ]
  },
  {
   "cell_type": "code",
   "execution_count": null,
   "metadata": {},
   "outputs": [],
   "source": [
    "class IntegratedAgent:\n",
    "    def __init__(self, name: str, tool_manager: ToolManager):\n",
    "        self.name = name\n",
    "        self.tool_manager = tool_manager\n",
    "        self.task_history = []\n",
    "\n",
    "    def execute_workflow(self, task_description: str):\n",
    "        print(f\"Executing workflow: {task_description}\")\n",
    "        \n",
    "        if 'database' in task_description.lower():\n",
    "            result = self.tool_manager.execute_tool(\n",
    "                'database_query', \n",
    "                query='SELECT 1 as test_column'\n",
    "            )\n",
    "            print(f\"Database result: {result.data if result.success else result.error}\")\n",
    "            \n",
    "        elif 'api' in task_description.lower():\n",
    "            result = self.tool_manager.execute_tool(\n",
    "                'web_api',\n",
    "                url='https://example.com/api'\n",
    "            )\n",
    "            print(f\"API result: {result.data if result.success else result.error}\")\n",
    "        \n",
    "        self.task_history.append(task_description)\n",
    "        return f\"Completed: {task_description}\"\n",
    "\n",
    "# Create integrated agent\n",
    "integrated_agent = IntegratedAgent(\"ToolBot\", tool_manager)\n",
    "print(f\"Created integrated agent: {integrated_agent.name}\")"
   ]
  },
  {
   "cell_type": "markdown",
   "metadata": {},
   "source": [
    "## Demo\n",
    "\n",
    "Demonstrate the agent using different tools."
   ]
  },
  {
   "cell_type": "code",
   "execution_count": null,
   "metadata": {},
   "outputs": [],
   "source": [
    "workflows = [\n",
    "    \"Query database for user information\",\n",
    "    \"Make API call to external service\"\n",
    "]\n",
    "\n",
    "print(\"Tool Integration Demo\")\n",
    "for workflow in workflows:\n",
    "    result = integrated_agent.execute_workflow(workflow)\n",
    "    \n",
    "print(f\"Completed {len(integrated_agent.task_history)} workflows\")"
   ]
  },
  {
   "cell_type": "markdown",
   "metadata": {},
   "source": [
    "## Module Summary\n",
    "\n",
    "You built:\n",
    "- Tool integration framework\n",
    "- Database connectivity\n",
    "- API integration\n",
    "- Error handling\n",
    "\n",
    "Next: Planning and goal decomposition"
   ]
  }
 ],
 "metadata": {
  "kernelspec": {
   "display_name": "Python 3",
   "language": "python",
   "name": "python3"
  },
  "language_info": {
   "codemirror_mode": {
    "name": "ipython",
    "version": 3
   },
   "file_extension": ".py",
   "mimetype": "text/x-python",
   "name": "python",
   "nbconvert_exporter": "python",
   "pygments_lexer": "ipython3",
   "version": "3.8.0"
  }
 },
 "nbformat": 4,
 "nbformat_minor": 4
}
{
 "cells": [
  {
   "cell_type": "markdown",
   "metadata": {},
   "source": [
    "# Module 2: Memory and Learning\n",
    "*Building Agents That Remember and Improve*\n",
    "\n",
    "**Learning Objectives:**\n",
    "- Implement sophisticated memory systems\n",
    "- Create agents that learn from experience\n",
    "- Build context-aware systems\n",
    "\n",
    "**Duration:** 50 minutes"
   ]
  },
  {
   "cell_type": "code",
   "execution_count": null,
   "metadata": {},
   "outputs": [],
   "source": [
    "import json\n",
    "from datetime import datetime\n",
    "from typing import List, Dict, Any\n",
    "from dataclasses import dataclass\n",
    "from collections import deque\n",
    "\n",
    "print(\"Memory system ready\")"
   ]
  },
  {
   "cell_type": "markdown",
   "metadata": {},
   "source": [
    "## Memory Types\n",
    "\n",
    "Agents need different types of memory:\n",
    "1. Working Memory - Current context\n",
    "2. Episodic Memory - Past experiences\n",
    "3. Semantic Memory - Learned facts\n",
    "4. Procedural Memory - Skills and patterns"
   ]
  },
  {
   "cell_type": "code",
   "execution_count": null,
   "metadata": {},
   "outputs": [],
   "source": [
    "@dataclass\n",
    "class MemoryItem:\n",
    "    content: str\n",
    "    timestamp: datetime\n",
    "    importance: float\n",
    "    access_count: int = 0\n",
    "\n",
    "class MemoryManager:\n",
    "    def __init__(self, max_working_memory: int = 10):\n",
    "        self.working_memory = deque(maxlen=max_working_memory)\n",
    "        self.episodic_memory = []\n",
    "        self.semantic_memory = {}\n",
    "        self.procedural_memory = {}\n",
    "\n",
    "    def add_experience(self, content: str, importance: float = 0.5):\n",
    "        memory_item = MemoryItem(\n",
    "            content=content,\n",
    "            timestamp=datetime.now(),\n",
    "            importance=importance\n",
    "        )\n",
    "        self.working_memory.append(memory_item)\n",
    "        self.episodic_memory.append(memory_item)\n",
    "\n",
    "    def retrieve_relevant(self, query: str, limit: int = 3):\n",
    "        relevant = []\n",
    "        for memory in self.episodic_memory:\n",
    "            if query.lower() in memory.content.lower():\n",
    "                memory.access_count += 1\n",
    "                relevant.append(memory)\n",
    "        return sorted(relevant, key=lambda x: x.importance, reverse=True)[:limit]\n",
    "\n",
    "memory_manager = MemoryManager()\n",
    "print(f\"Memory manager created\")"
   ]
  },
  {
   "cell_type": "markdown",
   "metadata": {},
   "source": [
    "## Learning Agent\n",
    "\n",
    "An agent that learns from interactions and improves over time."
   ]
  },
  {
   "cell_type": "code",
   "execution_count": null,
   "metadata": {},
   "outputs": [],
   "source": [
    "class LearningAgent:\n",
    "    def __init__(self, name: str):\n",
    "        self.name = name\n",
    "        self.memory = MemoryManager()\n",
    "        self.tools = {}\n",
    "        self.success_count = 0\n",
    "        self.failure_count = 0\n",
    "\n",
    "    def execute_task(self, task: str):\n",
    "        print(f\"Executing: {task}\")\n",
    "        \n",
    "        # Retrieve relevant memories\n",
    "        relevant_memories = self.memory.retrieve_relevant(task)\n",
    "        if relevant_memories:\n",
    "            print(f\"Found {len(relevant_memories)} relevant memories\")\n",
    "\n",
    "        # Simulate task execution\n",
    "        import random\n",
    "        success = random.random() > 0.3  # 70% success rate\n",
    "        \n",
    "        if success:\n",
    "            self.success_count += 1\n",
    "            self.memory.add_experience(f\"Successfully completed: {task}\", 0.8)\n",
    "            print(\"Task completed successfully\")\n",
    "        else:\n",
    "            self.failure_count += 1\n",
    "            self.memory.add_experience(f\"Failed task: {task}\", 0.9)\n",
    "            print(\"Task failed - learning from failure\")\n",
    "\n",
    "        return success\n",
    "\n",
    "    def get_performance_stats(self):\n",
    "        total = self.success_count + self.failure_count\n",
    "        if total == 0:\n",
    "            return \"No tasks executed yet\"\n",
    "        success_rate = self.success_count / total * 100\n",
    "        return f\"Success rate: {success_rate:.1f}% ({self.success_count}/{total})\"\n",
    "\n",
    "learning_agent = LearningAgent(\"MemoryBot\")\n",
    "print(f\"Created learning agent: {learning_agent.name}\")"
   ]
  },
  {
   "cell_type": "markdown",
   "metadata": {},
   "source": [
    "## Testing Learning\n",
    "\n",
    "Let's test how the agent learns from multiple task executions."
   ]
  },
  {
   "cell_type": "code",
   "execution_count": null,
   "metadata": {},
   "outputs": [],
   "source": [
    "# Execute multiple tasks to demonstrate learning\n",
    "tasks = [\n",
    "    \"analyze data\",\n",
    "    \"generate report\",\n",
    "    \"analyze sales data\",\n",
    "    \"create presentation\",\n",
    "    \"analyze customer data\"\n",
    "]\n",
    "\n",
    "print(\"\\n=== Learning Demonstration ===\")\n",
    "for i, task in enumerate(tasks, 1):\n",
    "    print(f\"\\nTask {i}: {task}\")\n",
    "    learning_agent.execute_task(task)\n",
    "    print(learning_agent.get_performance_stats())\n",
    "\n",
    "print(f\"\\nTotal memories stored: {len(learning_agent.memory.episodic_memory)}\")\n",
    "print(f\"Working memory size: {len(learning_agent.memory.working_memory)}\")"
   ]
  },
  {
   "cell_type": "markdown",
   "metadata": {},
   "source": [
    "## Module Summary\n",
    "\n",
    "You built:\n",
    "- Multi-type memory system\n",
    "- Learning from experience\n",
    "- Context-aware retrieval\n",
    "- Performance tracking\n",
    "\n",
    "Next: Tool integration and environment interaction"
   ]
  }
 ],
 "metadata": {
  "kernelspec": {
   "display_name": "Python 3",
   "language": "python",
   "name": "python3"
  },
  "language_info": {
   "codemirror_mode": {
    "name": "ipython",
    "version": 3
   },
   "file_extension": ".py",
   "mimetype": "text/x-python",
   "name": "python",
   "nbconvert_exporter": "python",
   "pygments_lexer": "ipython3",
   "version": "3.8.0"
  }
 },
 "nbformat": 4,
 "nbformat_minor": 4
}